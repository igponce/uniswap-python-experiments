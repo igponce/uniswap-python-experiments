{
 "cells": [
  {
   "cell_type": "markdown",
   "metadata": {},
   "source": [
    "## Test uniswap 1&2\n",
    "Prueba de obtención de datos de UNISWAP 1 y 2 para un token.\n",
    "\n",
    "- Obtención del exchange de ese token\n",
    "- Obtención de precio para una cantidad de ese token\n",
    "- Comparación de precios (arbitrage)\n",
    "\n",
    "Para la prueba necesitamos una cuenta en [Infura.io](https://infura.io) para no tener que desplegar un nodo local de Ethereum."
   ]
  },
  {
   "cell_type": "markdown",
   "metadata": {},
   "source": [
    "### Imports\n",
    "\n",
    "Para interactuar con el blockchain necesitamos:\n",
    "- Módulo web3 (pip install web3)\n",
    "- ipython_secrets para no llenar el código de información sensible.\n"
   ]
  },
  {
   "cell_type": "code",
   "execution_count": 1,
   "metadata": {},
   "outputs": [],
   "source": [
    "from web3 import Web3\n",
    "from ipython_secrets import *"
   ]
  },
  {
   "cell_type": "markdown",
   "metadata": {},
   "source": [
    "### Contratos y ABI\n",
    "\n",
    "Para interactuar con el blockchain necesitamos:\n",
    "- Dirección del contrato\n",
    "- ABI (interfaz) de cada contrato.\n",
    "\n",
    "En nuestro caso necesitamos 3 ABIs distintas:\n",
    "\n",
    "- Uniswap1 *exchange* ABI: Aquí es donde se compra y vende el token.\n",
    "- Uniswap2 *exchange* ABI: Ídem para Uniswap2.\n",
    "- ERC20 ABI: Para averiguar el balance de cada exchange.\n",
    "\n",
    "\n",
    "Todo esto está en [definitions.py](./definitions.py)\n"
   ]
  },
  {
   "cell_type": "code",
   "execution_count": 2,
   "metadata": {},
   "outputs": [],
   "source": [
    "from definitions import *"
   ]
  },
  {
   "cell_type": "markdown",
   "metadata": {},
   "source": [
    "### Cliente W3\n",
    "\n",
    "Para interactuar con el blockchain tenemos que intanciar un cliente.\n",
    "\n",
    "Usamos infura con transporte de Websocket."
   ]
  },
  {
   "cell_type": "code",
   "execution_count": 3,
   "metadata": {},
   "outputs": [],
   "source": [
    "\n",
    "infura_uri = f'wss://mainnet.infura.io/ws/v3/{get_secret(\"INFURA_API_KEY\")}'  # SECRET\n",
    "w3 = Web3(Web3.WebsocketProvider(infura_uri))"
   ]
  },
  {
   "cell_type": "markdown",
   "metadata": {},
   "source": [
    "## Interactuamos con los contratos"
   ]
  },
  {
   "cell_type": "code",
   "execution_count": 4,
   "metadata": {},
   "outputs": [],
   "source": [
    "token_addr = '0x3A9FfF453d50D4Ac52A6890647b823379ba36B9E'\n",
    "weth_addr = '0xC02aaA39b223FE8D0A0e5C4F27eAD9083C756Cc2'\n",
    "uniswap1_addr = '0x536956Fab86774fb55CfaAcF496BC25E4d2B435C'\n",
    "uniswap2_addr = '0x260E069deAd76baAC587B5141bB606Ef8b9Bab6c'"
   ]
  },
  {
   "cell_type": "code",
   "execution_count": 5,
   "metadata": {
    "tags": []
   },
   "outputs": [],
   "source": [
    "\n",
    "token_addr_cs =  Web3.toChecksumAddress(token_addr)  # Checksum address por motivos de seguridad.\n",
    "token_contract = w3.eth.contract(address=token_addr_cs, abi=erc20_ABI)\n",
    "weth_contract = w3.eth.contract(address=weth_addr, abi=erc20_ABI)\n"
   ]
  },
  {
   "cell_type": "code",
   "execution_count": 6,
   "metadata": {
    "tags": []
   },
   "outputs": [
    {
     "output_type": "stream",
     "name": "stdout",
     "text": "ERC-20 Token name: Shuffle.Monster V3 (SHUF)\nDecimals: 18 ( 1e-18 )\n"
    }
   ],
   "source": [
    "### Informacion del token\n",
    "\n",
    "token_name = token_contract.functions.name().call()\n",
    "token_symbol = token_contract.functions.symbol().call()\n",
    "token_decimals = token_contract.functions.decimals().call() \n",
    "\n",
    "print(f'ERC-20 Token name: { token_name } ({token_symbol})')\n",
    "print(f'Decimals: { token_decimals } ( { 10 ** -token_decimals} )')\n"
   ]
  },
  {
   "cell_type": "code",
   "execution_count": 7,
   "metadata": {
    "tags": []
   },
   "outputs": [
    {
     "output_type": "stream",
     "name": "stdout",
     "text": "UniswapV1 balances:\n   4579.065019173647 SHUF \n   2.1950382410938216 ETH \n\nUniswap1 Price:  0.00047936385089590746 SHUF / ETH\n\nUniswapV2 balances:\n   89791.56886166017 SHUF \n   0.0 ETH \n   37.4352879509202 WETH\n\n Uniswap2 Price: 0.000416913173759063 SHUF / ETH\n"
    }
   ],
   "source": [
    "# Balance de los contratos UNISWAP\n",
    "\n",
    "print('UniswapV1 balances:')\n",
    "\n",
    "token_balancev1 = token_contract.functions.balanceOf(uniswap1_addr).call() * ( 10 ** -token_decimals )\n",
    "eth_balancev1 = w3.eth.getBalance(uniswap1_addr) * ( 1e-18 )\n",
    "print(f'   { token_balancev1} { token_symbol} ')\n",
    "print(f'   { eth_balancev1} ETH ')\n",
    "print(f'\\nUniswap1 Price:  { eth_balancev1 / ( token_balancev1 ) } { token_symbol } / ETH')\n",
    "\n",
    "\n",
    "print('\\nUniswapV2 balances:')\n",
    "\n",
    "token_balancev2 = token_contract.functions.balanceOf(uniswap2_addr).call() * ( 10 ** -token_decimals )\n",
    "eth_balancev2 = w3.eth.getBalance(uniswap2_addr) * ( 1e-18 )\n",
    "weth_balancev2 = weth_contract.functions.balanceOf(uniswap2_addr).call() * ( 1e-18 )\n",
    "\n",
    "print(f'   { token_balancev2} { token_symbol} ')\n",
    "print(f'   { eth_balancev2} ETH ')\n",
    "print(f'   { weth_balancev2} WETH')\n",
    "print(f'\\n Uniswap2 Price: { weth_balancev2 / ( token_balancev2 ) } { token_symbol } / ETH')\n",
    "\n"
   ]
  }
 ],
 "metadata": {
  "celltoolbar": "Edit Metadata",
  "kernelspec": {
   "display_name": "Python 3.6.9 64-bit",
   "language": "python",
   "name": "python36964bitc0953b2775814a84a23eb1e5fa2901d3"
  },
  "language_info": {
   "codemirror_mode": {
    "name": "ipython",
    "version": 3
   },
   "file_extension": ".py",
   "mimetype": "text/x-python",
   "name": "python",
   "nbconvert_exporter": "python",
   "pygments_lexer": "ipython3",
   "version": "3.6.9-final"
  }
 },
 "nbformat": 4,
 "nbformat_minor": 2
}